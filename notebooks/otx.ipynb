{
 "cells": [
  {
   "cell_type": "code",
   "execution_count": 2,
   "metadata": {
    "collapsed": true
   },
   "outputs": [],
   "source": [
    "import numpy as np\n",
    "import pandas as pd"
   ]
  },
  {
   "cell_type": "markdown",
   "metadata": {},
   "source": [
    "# Calculate Low-Income Thresholds"
   ]
  },
  {
   "cell_type": "code",
   "execution_count": 2,
   "metadata": {
    "collapsed": true
   },
   "outputs": [],
   "source": [
    "# puma codes for alameda, contra costa, and san francisco counties\n",
    "alameda_puma = np.arange(101, 111)\n",
    "cc_puma = np.arange(1301, 1310)\n",
    "sf_puma = np.arange(7501, 7508)"
   ]
  },
  {
   "cell_type": "code",
   "execution_count": 3,
   "metadata": {
    "collapsed": true
   },
   "outputs": [],
   "source": [
    "def extend_low_income(thres, upper_N=16):\n",
    "    extras = (np.arange(9, upper_N) - 8) * thres[3] * 0.08 + thres[-1]\n",
    "    thres = np.append(thres, extras)\n",
    "    return thres"
   ]
  },
  {
   "cell_type": "code",
   "execution_count": 4,
   "metadata": {
    "collapsed": true
   },
   "outputs": [],
   "source": [
    "# alameda, contra costa, and sf low income thresholds per number of persons in household \n",
    "alameda_low_income = np.array([62750, 71700, 80650, 89600, 96800, 103950, 111150, 118300])\n",
    "cc_low_income = np.array([62750, 71700, 80650, 89600, 96800, 103950, 111150, 118300])\n",
    "sf_low_income = np.array([82200, 93950, 105700, 117400, 126800, 136200, 145600, 155000])\n",
    "# extend the low income thresholds for households of size >8\n",
    "alameda_low_income = extend_low_income(alameda_low_income)\n",
    "cc_low_income = extend_low_income(cc_low_income)\n",
    "sf_low_income = extend_low_income(sf_low_income)\n",
    "# store in list\n",
    "low_income_thresholds = [alameda_low_income, cc_low_income, sf_low_income]"
   ]
  },
  {
   "cell_type": "markdown",
   "metadata": {},
   "source": [
    "# Consolidate Low-Income Tables"
   ]
  },
  {
   "cell_type": "code",
   "execution_count": 3,
   "metadata": {
    "collapsed": false
   },
   "outputs": [],
   "source": [
    "# read in household PUMS data\n",
    "hca = pd.read_csv('ss16hca.csv')"
   ]
  },
  {
   "cell_type": "code",
   "execution_count": 10,
   "metadata": {
    "collapsed": false
   },
   "outputs": [],
   "source": [
    "# extract samples corresponding to each county\n",
    "alameda = hca.loc[hca.PUMA.isin(alameda_puma)]\n",
    "cc = hca.loc[hca.PUMA.isin(cc_puma)]\n",
    "sf = hca.loc[hca.PUMA.isin(sf_puma)]\n",
    "# store tables in list\n",
    "tables = [alameda, cc, sf]"
   ]
  },
  {
   "cell_type": "code",
   "execution_count": 11,
   "metadata": {
    "collapsed": true
   },
   "outputs": [],
   "source": [
    "# extract low income portion of the table\n",
    "low_income_tables = []\n",
    "# use FINCP or HINCP?\n",
    "for idx, table in enumerate(tables):\n",
    "    # remove NaN household incomes\n",
    "    table = table.loc[table.FINCP.notna()]\n",
    "    low_income_threshold = low_income_thresholds[idx]\n",
    "    low_income_table = table.loc[table.FINCP < low_income_threshold[table.NP - 1]]\n",
    "    low_income_tables.append(low_income_table)"
   ]
  },
  {
   "cell_type": "markdown",
   "metadata": {},
   "source": [
    "# Internet"
   ]
  },
  {
   "cell_type": "code",
   "execution_count": 37,
   "metadata": {
    "collapsed": true
   },
   "outputs": [],
   "source": [
    "def calculate_percent_internet(table, weighted=True):\n",
    "    if weighted:\n",
    "        weighted_sum = table.WGTP.sum()\n",
    "        no_internet = table.loc[table.ACCESS == 3].WGTP.sum()\n",
    "        percent_no_internet = 100 * no_internet/weighted_sum\n",
    "    else:\n",
    "        total = table.shape[0]\n",
    "        no_internet = table.loc[table.ACCESS==3].shape[0]\n",
    "        percent_no_internet = 100 * no_internet/total\n",
    "    return percent_no_internet"
   ]
  },
  {
   "cell_type": "code",
   "execution_count": 38,
   "metadata": {
    "collapsed": false
   },
   "outputs": [
    {
     "name": "stdout",
     "output_type": "stream",
     "text": [
      "In Alameda County, 13.44% of low income households lack access to the Internet at home.\n",
      "In San Francisco County, 10.73% of low income households lack access to the Internet at home.\n",
      "In Contra Costa County, 8.65% of low income households lack access to the Internet at home.\n"
     ]
    }
   ],
   "source": [
    "alameda_internet = calculate_percent_internet(low_income_tables[0])\n",
    "print('In Alameda County, %0.2f%% of low income households lack access to the Internet at home.' %alameda_internet)\n",
    "sf_internet = calculate_percent_internet(low_income_tables[2])\n",
    "print('In San Francisco County, %0.2f%% of low income households lack access to the Internet at home.' %sf_internet)\n",
    "cc_internet = calculate_percent_internet(low_income_tables[1])\n",
    "print('In Contra Costa County, %0.2f%% of low income households lack access to the Internet at home.' %cc_internet)"
   ]
  },
  {
   "cell_type": "markdown",
   "metadata": {},
   "source": [
    "# Computer"
   ]
  },
  {
   "cell_type": "code",
   "execution_count": 39,
   "metadata": {
    "collapsed": true
   },
   "outputs": [],
   "source": [
    "def calculate_percent_computer(table, weighted=True):\n",
    "    if weighted:\n",
    "        weighted_sum = table.WGTP.sum()\n",
    "        no_computer = table.loc[table.LAPTOP == 2].WGTP.sum()\n",
    "        percent_no_computer = 100 * no_computer/weighted_sum\n",
    "    else:\n",
    "        total = table.shape[0]\n",
    "        no_computer = table.loc[table.LAPTOP == 2].shape[0]\n",
    "        percent_no_computer = 100 * no_computer/total\n",
    "    return percent_no_computer"
   ]
  },
  {
   "cell_type": "code",
   "execution_count": 40,
   "metadata": {
    "collapsed": false
   },
   "outputs": [
    {
     "name": "stdout",
     "output_type": "stream",
     "text": [
      "In Alameda County, 23.21% of low income households lack access to a computer at home.\n",
      "In San Francisco County, 18.10% of low income households lack access to a computer at home.\n",
      "In Contra Costa County, 22.66% of low income households lack access to a computer at home.\n"
     ]
    }
   ],
   "source": [
    "alameda_computer = calculate_percent_computer(low_income_tables[0])\n",
    "print('In Alameda County, %0.2f%% of low income households lack access to a computer at home.' %alameda_computer)\n",
    "sf_computer = calculate_percent_computer(low_income_tables[2])\n",
    "print('In San Francisco County, %0.2f%% of low income households lack access to a computer at home.' %sf_computer)\n",
    "cc_computer = calculate_percent_computer(low_income_tables[1])\n",
    "print('In Contra Costa County, %0.2f%% of low income households lack access to a computer at home.' %cc_computer)"
   ]
  },
  {
   "cell_type": "code",
   "execution_count": 29,
   "metadata": {
    "collapsed": false
   },
   "outputs": [
    {
     "data": {
      "text/plain": [
       "0.2699299439649087"
      ]
     },
     "execution_count": 29,
     "metadata": {},
     "output_type": "execute_result"
    }
   ],
   "source": [
    "low_income_tables[1].WGTP.sum()/cc.WGTP.sum()"
   ]
  },
  {
   "cell_type": "code",
   "execution_count": 32,
   "metadata": {
    "collapsed": false
   },
   "outputs": [
    {
     "name": "stdout",
     "output_type": "stream",
     "text": [
      "0.24833772383207176\n",
      "0.2699299439649087\n",
      "0.2016455248292488\n"
     ]
    }
   ],
   "source": [
    "print(low_income_tables[0].WGTP.sum()/alameda.WGTP.sum())\n",
    "print(low_income_tables[1].WGTP.sum()/cc.WGTP.sum())\n",
    "print(low_income_tables[2].WGTP.sum()/sf.WGTP.sum())"
   ]
  },
  {
   "cell_type": "markdown",
   "metadata": {},
   "source": [
    "|| Alameda | San Francisco | Contra Costa |\n",
    "|---|---------|----|--------------|\n",
    "|<b>Lacks Internet Access</b> | 11.60% | 10.34% | 8.13% | \n",
    "|<b>Lacks Internet Access (Weighted)</b> | 13.44% | 10.73% | 8.65% | \n",
    "|<b>Lacks Computer Access</b> | 19.44% | 16.11% | 17.94% | \n",
    "|<b>Lacks Computer Access (Weighted)</b> | 23.21% | 18.10% | 22.66% | "
   ]
  },
  {
   "cell_type": "code",
   "execution_count": null,
   "metadata": {
    "collapsed": true
   },
   "outputs": [],
   "source": []
  }
 ],
 "metadata": {
  "kernelspec": {
   "display_name": "Python 3",
   "language": "python",
   "name": "python3"
  },
  "language_info": {
   "codemirror_mode": {
    "name": "ipython",
    "version": 3
   },
   "file_extension": ".py",
   "mimetype": "text/x-python",
   "name": "python",
   "nbconvert_exporter": "python",
   "pygments_lexer": "ipython3",
   "version": "3.6.5"
  },
  "varInspector": {
   "cols": {
    "lenName": 16,
    "lenType": 16,
    "lenVar": 40
   },
   "kernels_config": {
    "python": {
     "delete_cmd_postfix": "",
     "delete_cmd_prefix": "del ",
     "library": "var_list.py",
     "varRefreshCmd": "print(var_dic_list())"
    },
    "r": {
     "delete_cmd_postfix": ") ",
     "delete_cmd_prefix": "rm(",
     "library": "var_list.r",
     "varRefreshCmd": "cat(var_dic_list()) "
    }
   },
   "types_to_exclude": [
    "module",
    "function",
    "builtin_function_or_method",
    "instance",
    "_Feature"
   ],
   "window_display": false
  }
 },
 "nbformat": 4,
 "nbformat_minor": 2
}

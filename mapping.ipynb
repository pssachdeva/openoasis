{
 "cells": [
  {
   "cell_type": "code",
   "execution_count": 1,
   "metadata": {
    "collapsed": true
   },
   "outputs": [],
   "source": [
    "import geopandas as gp\n",
    "import numpy as np\n",
    "import pandas as pd\n",
    "import matplotlib.pyplot as plt\n",
    "%matplotlib inline"
   ]
  },
  {
   "cell_type": "code",
   "execution_count": 2,
   "metadata": {
    "collapsed": true
   },
   "outputs": [],
   "source": [
    "json = gp.read_file('cb_2016_06_puma10_500k.json')"
   ]
  },
  {
   "cell_type": "code",
   "execution_count": 3,
   "metadata": {
    "collapsed": false
   },
   "outputs": [
    {
     "ename": "NameError",
     "evalue": "name 'alameda_internet' is not defined",
     "output_type": "error",
     "traceback": [
      "\u001b[0;31m---------------------------------------------------------------------------\u001b[0m",
      "\u001b[0;31mNameError\u001b[0m                                 Traceback (most recent call last)",
      "\u001b[0;32m<ipython-input-3-3caf427f28c3>\u001b[0m in \u001b[0;36m<module>\u001b[0;34m()\u001b[0m\n\u001b[0;32m----> 1\u001b[0;31m \u001b[0mjson\u001b[0m\u001b[0;34m[\u001b[0m\u001b[0;34m'internet'\u001b[0m\u001b[0;34m]\u001b[0m \u001b[0;34m=\u001b[0m \u001b[0mnp\u001b[0m\u001b[0;34m.\u001b[0m\u001b[0marray\u001b[0m\u001b[0;34m(\u001b[0m\u001b[0malameda_internet\u001b[0m\u001b[0;34m)\u001b[0m\u001b[0;34m\u001b[0m\u001b[0m\n\u001b[0m",
      "\u001b[0;31mNameError\u001b[0m: name 'alameda_internet' is not defined"
     ]
    }
   ],
   "source": [
    "json['internet'] = np.array(alameda_internet)"
   ]
  },
  {
   "cell_type": "code",
   "execution_count": 4,
   "metadata": {
    "collapsed": false
   },
   "outputs": [
    {
     "ename": "DriverIOError",
     "evalue": "GeoJSON driver doesn't support creating a layer on a read-only datasource",
     "output_type": "error",
     "traceback": [
      "\u001b[0;31m---------------------------------------------------------------------------\u001b[0m",
      "\u001b[0;31mCPLE_NotSupportedError\u001b[0m                    Traceback (most recent call last)",
      "\u001b[0;32mfiona/ogrext.pyx\u001b[0m in \u001b[0;36mfiona.ogrext.WritingSession.start\u001b[0;34m()\u001b[0m\n",
      "\u001b[0;32mfiona/_err.pyx\u001b[0m in \u001b[0;36mfiona._err.exc_wrap_pointer\u001b[0;34m()\u001b[0m\n",
      "\u001b[0;31mCPLE_NotSupportedError\u001b[0m: GeoJSON driver doesn't support creating a layer on a read-only datasource",
      "\nDuring handling of the above exception, another exception occurred:\n",
      "\u001b[0;31mDriverIOError\u001b[0m                             Traceback (most recent call last)",
      "\u001b[0;32m<ipython-input-4-34c0d68cea94>\u001b[0m in \u001b[0;36m<module>\u001b[0;34m()\u001b[0m\n\u001b[0;32m----> 1\u001b[0;31m \u001b[0mjson\u001b[0m\u001b[0;34m.\u001b[0m\u001b[0mto_file\u001b[0m\u001b[0;34m(\u001b[0m\u001b[0;34m'alameda.json'\u001b[0m\u001b[0;34m,\u001b[0m \u001b[0mdriver\u001b[0m\u001b[0;34m=\u001b[0m\u001b[0;34m'GeoJSON'\u001b[0m\u001b[0;34m)\u001b[0m\u001b[0;34m\u001b[0m\u001b[0m\n\u001b[0m",
      "\u001b[0;32m/usr/local/lib/python3.6/site-packages/geopandas/geodataframe.py\u001b[0m in \u001b[0;36mto_file\u001b[0;34m(self, filename, driver, schema, **kwargs)\u001b[0m\n\u001b[1;32m    363\u001b[0m         \"\"\"\n\u001b[1;32m    364\u001b[0m         \u001b[0;32mfrom\u001b[0m \u001b[0mgeopandas\u001b[0m\u001b[0;34m.\u001b[0m\u001b[0mio\u001b[0m\u001b[0;34m.\u001b[0m\u001b[0mfile\u001b[0m \u001b[0;32mimport\u001b[0m \u001b[0mto_file\u001b[0m\u001b[0;34m\u001b[0m\u001b[0m\n\u001b[0;32m--> 365\u001b[0;31m         \u001b[0mto_file\u001b[0m\u001b[0;34m(\u001b[0m\u001b[0mself\u001b[0m\u001b[0;34m,\u001b[0m \u001b[0mfilename\u001b[0m\u001b[0;34m,\u001b[0m \u001b[0mdriver\u001b[0m\u001b[0;34m,\u001b[0m \u001b[0mschema\u001b[0m\u001b[0;34m,\u001b[0m \u001b[0;34m**\u001b[0m\u001b[0mkwargs\u001b[0m\u001b[0;34m)\u001b[0m\u001b[0;34m\u001b[0m\u001b[0m\n\u001b[0m\u001b[1;32m    366\u001b[0m \u001b[0;34m\u001b[0m\u001b[0m\n\u001b[1;32m    367\u001b[0m     \u001b[0;32mdef\u001b[0m \u001b[0mto_crs\u001b[0m\u001b[0;34m(\u001b[0m\u001b[0mself\u001b[0m\u001b[0;34m,\u001b[0m \u001b[0mcrs\u001b[0m\u001b[0;34m=\u001b[0m\u001b[0;32mNone\u001b[0m\u001b[0;34m,\u001b[0m \u001b[0mepsg\u001b[0m\u001b[0;34m=\u001b[0m\u001b[0;32mNone\u001b[0m\u001b[0;34m,\u001b[0m \u001b[0minplace\u001b[0m\u001b[0;34m=\u001b[0m\u001b[0;32mFalse\u001b[0m\u001b[0;34m)\u001b[0m\u001b[0;34m:\u001b[0m\u001b[0;34m\u001b[0m\u001b[0m\n",
      "\u001b[0;32m/usr/local/lib/python3.6/site-packages/geopandas/io/file.py\u001b[0m in \u001b[0;36mto_file\u001b[0;34m(df, filename, driver, schema, **kwargs)\u001b[0m\n\u001b[1;32m     62\u001b[0m     \u001b[0;32mwith\u001b[0m \u001b[0mfiona\u001b[0m\u001b[0;34m.\u001b[0m\u001b[0mdrivers\u001b[0m\u001b[0;34m(\u001b[0m\u001b[0;34m)\u001b[0m\u001b[0;34m:\u001b[0m\u001b[0;34m\u001b[0m\u001b[0m\n\u001b[1;32m     63\u001b[0m         with fiona.open(filename, 'w', driver=driver, crs=df.crs,\n\u001b[0;32m---> 64\u001b[0;31m                         schema=schema, **kwargs) as colxn:\n\u001b[0m\u001b[1;32m     65\u001b[0m             \u001b[0;32mfor\u001b[0m \u001b[0mfeature\u001b[0m \u001b[0;32min\u001b[0m \u001b[0mdf\u001b[0m\u001b[0;34m.\u001b[0m\u001b[0miterfeatures\u001b[0m\u001b[0;34m(\u001b[0m\u001b[0;34m)\u001b[0m\u001b[0;34m:\u001b[0m\u001b[0;34m\u001b[0m\u001b[0m\n\u001b[1;32m     66\u001b[0m                 \u001b[0mcolxn\u001b[0m\u001b[0;34m.\u001b[0m\u001b[0mwrite\u001b[0m\u001b[0;34m(\u001b[0m\u001b[0mfeature\u001b[0m\u001b[0;34m)\u001b[0m\u001b[0;34m\u001b[0m\u001b[0m\n",
      "\u001b[0;32m/usr/local/lib/python3.6/site-packages/fiona/__init__.py\u001b[0m in \u001b[0;36mopen\u001b[0;34m(path, mode, driver, schema, crs, encoding, layer, vfs, enabled_drivers, crs_wkt)\u001b[0m\n\u001b[1;32m    173\u001b[0m         c = Collection(path, mode, crs=crs, driver=driver, schema=this_schema,\n\u001b[1;32m    174\u001b[0m                        \u001b[0mencoding\u001b[0m\u001b[0;34m=\u001b[0m\u001b[0mencoding\u001b[0m\u001b[0;34m,\u001b[0m \u001b[0mlayer\u001b[0m\u001b[0;34m=\u001b[0m\u001b[0mlayer\u001b[0m\u001b[0;34m,\u001b[0m \u001b[0mvsi\u001b[0m\u001b[0;34m=\u001b[0m\u001b[0mvsi\u001b[0m\u001b[0;34m,\u001b[0m \u001b[0marchive\u001b[0m\u001b[0;34m=\u001b[0m\u001b[0marchive\u001b[0m\u001b[0;34m,\u001b[0m\u001b[0;34m\u001b[0m\u001b[0m\n\u001b[0;32m--> 175\u001b[0;31m                        enabled_drivers=enabled_drivers, crs_wkt=crs_wkt)\n\u001b[0m\u001b[1;32m    176\u001b[0m     \u001b[0;32melse\u001b[0m\u001b[0;34m:\u001b[0m\u001b[0;34m\u001b[0m\u001b[0m\n\u001b[1;32m    177\u001b[0m         raise ValueError(\n",
      "\u001b[0;32m/usr/local/lib/python3.6/site-packages/fiona/collection.py\u001b[0m in \u001b[0;36m__init__\u001b[0;34m(self, path, mode, driver, schema, crs, encoding, layer, vsi, archive, enabled_drivers, crs_wkt, **kwargs)\u001b[0m\n\u001b[1;32m    154\u001b[0m             \u001b[0;32melif\u001b[0m \u001b[0mself\u001b[0m\u001b[0;34m.\u001b[0m\u001b[0mmode\u001b[0m \u001b[0;32min\u001b[0m \u001b[0;34m(\u001b[0m\u001b[0;34m'a'\u001b[0m\u001b[0;34m,\u001b[0m \u001b[0;34m'w'\u001b[0m\u001b[0;34m)\u001b[0m\u001b[0;34m:\u001b[0m\u001b[0;34m\u001b[0m\u001b[0m\n\u001b[1;32m    155\u001b[0m                 \u001b[0mself\u001b[0m\u001b[0;34m.\u001b[0m\u001b[0msession\u001b[0m \u001b[0;34m=\u001b[0m \u001b[0mWritingSession\u001b[0m\u001b[0;34m(\u001b[0m\u001b[0;34m)\u001b[0m\u001b[0;34m\u001b[0m\u001b[0m\n\u001b[0;32m--> 156\u001b[0;31m                 \u001b[0mself\u001b[0m\u001b[0;34m.\u001b[0m\u001b[0msession\u001b[0m\u001b[0;34m.\u001b[0m\u001b[0mstart\u001b[0m\u001b[0;34m(\u001b[0m\u001b[0mself\u001b[0m\u001b[0;34m,\u001b[0m \u001b[0;34m**\u001b[0m\u001b[0mkwargs\u001b[0m\u001b[0;34m)\u001b[0m\u001b[0;34m\u001b[0m\u001b[0m\n\u001b[0m\u001b[1;32m    157\u001b[0m         \u001b[0;32mexcept\u001b[0m \u001b[0mIOError\u001b[0m\u001b[0;34m:\u001b[0m\u001b[0;34m\u001b[0m\u001b[0m\n\u001b[1;32m    158\u001b[0m             \u001b[0mself\u001b[0m\u001b[0;34m.\u001b[0m\u001b[0msession\u001b[0m \u001b[0;34m=\u001b[0m \u001b[0;32mNone\u001b[0m\u001b[0;34m\u001b[0m\u001b[0m\n",
      "\u001b[0;32mfiona/ogrext.pyx\u001b[0m in \u001b[0;36mfiona.ogrext.WritingSession.start\u001b[0;34m()\u001b[0m\n",
      "\u001b[0;31mDriverIOError\u001b[0m: GeoJSON driver doesn't support creating a layer on a read-only datasource"
     ]
    }
   ],
   "source": [
    "json.to_file('alameda.json', driver='GeoJSON')"
   ]
  },
  {
   "cell_type": "code",
   "execution_count": 5,
   "metadata": {
    "collapsed": false
   },
   "outputs": [],
   "source": [
    "# PUMAs shape files\n",
    "pumas = gp.read_file('cb_2016_06_puma10_500k/cb_2016_06_puma10_500k.shp')\n",
    "# read in household PUMS data\n",
    "hca = pd.read_csv('ss16hca.csv')"
   ]
  },
  {
   "cell_type": "markdown",
   "metadata": {},
   "source": [
    "## Get Internet Access Data"
   ]
  },
  {
   "cell_type": "code",
   "execution_count": 6,
   "metadata": {
    "collapsed": false
   },
   "outputs": [],
   "source": [
    "# extract samples corresponding to each county\n",
    "alameda_serial = np.arange(101, 111)\n",
    "alameda = hca.loc[hca.PUMA.isin(alameda_serial)]"
   ]
  },
  {
   "cell_type": "code",
   "execution_count": 7,
   "metadata": {
    "collapsed": true
   },
   "outputs": [],
   "source": [
    "def extend_low_income(thres, upper_N=16):\n",
    "    extras = (np.arange(9, upper_N) - 8) * thres[3] * 0.08 + thres[-1]\n",
    "    thres = np.append(thres, extras)\n",
    "    return thres"
   ]
  },
  {
   "cell_type": "code",
   "execution_count": 9,
   "metadata": {
    "collapsed": true
   },
   "outputs": [],
   "source": [
    "alameda_low_income_thres = np.array([62750, 71700, 80650, 89600, 96800, 103950, 111150, 118300])\n",
    "# extend the low income thresholds for households of size >8\n",
    "alameda_low_income_thres = extend_low_income(alameda_low_income_thres)"
   ]
  },
  {
   "cell_type": "code",
   "execution_count": 10,
   "metadata": {
    "collapsed": false
   },
   "outputs": [],
   "source": [
    "def get_low_income(df, low_income_thresholds):\n",
    "    # use FINCP or HINCP?\n",
    "    # remove NaN household incomes\n",
    "    trimmed = df.loc[df.FINCP.notna()]\n",
    "    low_income = trimmed.loc[trimmed.FINCP < low_income_thresholds[trimmed.NP - 1]]\n",
    "    return low_income"
   ]
  },
  {
   "cell_type": "code",
   "execution_count": 11,
   "metadata": {
    "collapsed": false
   },
   "outputs": [],
   "source": [
    "alameda_low_income = get_low_income(alameda, alameda_low_income_thres)"
   ]
  },
  {
   "cell_type": "code",
   "execution_count": 27,
   "metadata": {
    "collapsed": true
   },
   "outputs": [],
   "source": [
    "def calculate_percent_internet(table, weighted=False):\n",
    "    grouped = table.groupby('PUMA')\n",
    "    if weighted:\n",
    "        weighted_sum = grouped.WGTP.sum()\n",
    "        no_internet = table.loc[table.ACCESS == 3].groupby('PUMA').WGTP.sum()\n",
    "        percent_no_internet = 100 * no_internet/weighted_sum\n",
    "    else:\n",
    "        no_internet = grouped.loc[table.ACCESS==3].agg('mean')\n",
    "        percent_no_internet = 100 * no_internet\n",
    "    return percent_no_internet"
   ]
  },
  {
   "cell_type": "code",
   "execution_count": 28,
   "metadata": {
    "collapsed": false
   },
   "outputs": [
    {
     "ename": "AttributeError",
     "evalue": "Cannot access callable attribute 'loc' of 'DataFrameGroupBy' objects, try using the 'apply' method",
     "output_type": "error",
     "traceback": [
      "\u001b[0;31m---------------------------------------------------------------------------\u001b[0m",
      "\u001b[0;31mAttributeError\u001b[0m                            Traceback (most recent call last)",
      "\u001b[0;32m<ipython-input-28-7594075cd49a>\u001b[0m in \u001b[0;36m<module>\u001b[0;34m()\u001b[0m\n\u001b[0;32m----> 1\u001b[0;31m \u001b[0malameda_internet\u001b[0m \u001b[0;34m=\u001b[0m \u001b[0mcalculate_percent_internet\u001b[0m\u001b[0;34m(\u001b[0m\u001b[0malameda_low_income\u001b[0m\u001b[0;34m)\u001b[0m\u001b[0;34m\u001b[0m\u001b[0m\n\u001b[0m",
      "\u001b[0;32m<ipython-input-27-c8a97dc74d3e>\u001b[0m in \u001b[0;36mcalculate_percent_internet\u001b[0;34m(table, weighted)\u001b[0m\n\u001b[1;32m      6\u001b[0m         \u001b[0mpercent_no_internet\u001b[0m \u001b[0;34m=\u001b[0m \u001b[0;36m100\u001b[0m \u001b[0;34m*\u001b[0m \u001b[0mno_internet\u001b[0m\u001b[0;34m/\u001b[0m\u001b[0mweighted_sum\u001b[0m\u001b[0;34m\u001b[0m\u001b[0m\n\u001b[1;32m      7\u001b[0m     \u001b[0;32melse\u001b[0m\u001b[0;34m:\u001b[0m\u001b[0;34m\u001b[0m\u001b[0m\n\u001b[0;32m----> 8\u001b[0;31m         \u001b[0mno_internet\u001b[0m \u001b[0;34m=\u001b[0m \u001b[0mgrouped\u001b[0m\u001b[0;34m.\u001b[0m\u001b[0mloc\u001b[0m\u001b[0;34m[\u001b[0m\u001b[0mtable\u001b[0m\u001b[0;34m.\u001b[0m\u001b[0mACCESS\u001b[0m\u001b[0;34m==\u001b[0m\u001b[0;36m3\u001b[0m\u001b[0;34m]\u001b[0m\u001b[0;34m.\u001b[0m\u001b[0magg\u001b[0m\u001b[0;34m(\u001b[0m\u001b[0;34m'mean'\u001b[0m\u001b[0;34m)\u001b[0m\u001b[0;34m\u001b[0m\u001b[0m\n\u001b[0m\u001b[1;32m      9\u001b[0m         \u001b[0mpercent_no_internet\u001b[0m \u001b[0;34m=\u001b[0m \u001b[0;36m100\u001b[0m \u001b[0;34m*\u001b[0m \u001b[0mno_internet\u001b[0m\u001b[0;34m\u001b[0m\u001b[0m\n\u001b[1;32m     10\u001b[0m     \u001b[0;32mreturn\u001b[0m \u001b[0mpercent_no_internet\u001b[0m\u001b[0;34m\u001b[0m\u001b[0m\n",
      "\u001b[0;32m/usr/local/lib/python3.6/site-packages/pandas/core/groupby/groupby.py\u001b[0m in \u001b[0;36m__getattr__\u001b[0;34m(self, attr)\u001b[0m\n\u001b[1;32m    760\u001b[0m             \u001b[0;32mreturn\u001b[0m \u001b[0mself\u001b[0m\u001b[0;34m[\u001b[0m\u001b[0mattr\u001b[0m\u001b[0;34m]\u001b[0m\u001b[0;34m\u001b[0m\u001b[0m\n\u001b[1;32m    761\u001b[0m         \u001b[0;32mif\u001b[0m \u001b[0mhasattr\u001b[0m\u001b[0;34m(\u001b[0m\u001b[0mself\u001b[0m\u001b[0;34m.\u001b[0m\u001b[0mobj\u001b[0m\u001b[0;34m,\u001b[0m \u001b[0mattr\u001b[0m\u001b[0;34m)\u001b[0m\u001b[0;34m:\u001b[0m\u001b[0;34m\u001b[0m\u001b[0m\n\u001b[0;32m--> 762\u001b[0;31m             \u001b[0;32mreturn\u001b[0m \u001b[0mself\u001b[0m\u001b[0;34m.\u001b[0m\u001b[0m_make_wrapper\u001b[0m\u001b[0;34m(\u001b[0m\u001b[0mattr\u001b[0m\u001b[0;34m)\u001b[0m\u001b[0;34m\u001b[0m\u001b[0m\n\u001b[0m\u001b[1;32m    763\u001b[0m \u001b[0;34m\u001b[0m\u001b[0m\n\u001b[1;32m    764\u001b[0m         raise AttributeError(\"%r object has no attribute %r\" %\n",
      "\u001b[0;32m/usr/local/lib/python3.6/site-packages/pandas/core/groupby/groupby.py\u001b[0m in \u001b[0;36m_make_wrapper\u001b[0;34m(self, name)\u001b[0m\n\u001b[1;32m    797\u001b[0m                    \"using the 'apply' method\".format(kind, name,\n\u001b[1;32m    798\u001b[0m                                                      type(self).__name__))\n\u001b[0;32m--> 799\u001b[0;31m             \u001b[0;32mraise\u001b[0m \u001b[0mAttributeError\u001b[0m\u001b[0;34m(\u001b[0m\u001b[0mmsg\u001b[0m\u001b[0;34m)\u001b[0m\u001b[0;34m\u001b[0m\u001b[0m\n\u001b[0m\u001b[1;32m    800\u001b[0m \u001b[0;34m\u001b[0m\u001b[0m\n\u001b[1;32m    801\u001b[0m         \u001b[0mself\u001b[0m\u001b[0;34m.\u001b[0m\u001b[0m_set_group_selection\u001b[0m\u001b[0;34m(\u001b[0m\u001b[0;34m)\u001b[0m\u001b[0;34m\u001b[0m\u001b[0m\n",
      "\u001b[0;31mAttributeError\u001b[0m: Cannot access callable attribute 'loc' of 'DataFrameGroupBy' objects, try using the 'apply' method"
     ]
    }
   ],
   "source": [
    "alameda_internet = calculate_percent_internet(alameda_low_income)"
   ]
  },
  {
   "cell_type": "code",
   "execution_count": 26,
   "metadata": {},
   "outputs": [
    {
     "data": {
      "text/html": [
       "<div>\n",
       "<style scoped>\n",
       "    .dataframe tbody tr th:only-of-type {\n",
       "        vertical-align: middle;\n",
       "    }\n",
       "\n",
       "    .dataframe tbody tr th {\n",
       "        vertical-align: top;\n",
       "    }\n",
       "\n",
       "    .dataframe thead th {\n",
       "        text-align: right;\n",
       "    }\n",
       "</style>\n",
       "<table border=\"1\" class=\"dataframe\">\n",
       "  <thead>\n",
       "    <tr style=\"text-align: right;\">\n",
       "      <th></th>\n",
       "      <th>SERIALNO</th>\n",
       "      <th>ST</th>\n",
       "      <th>DIVISION</th>\n",
       "      <th>REGION</th>\n",
       "      <th>ADJHSG</th>\n",
       "      <th>ADJINC</th>\n",
       "      <th>WGTP</th>\n",
       "      <th>NP</th>\n",
       "      <th>TYPE</th>\n",
       "      <th>ACCESS</th>\n",
       "      <th>...</th>\n",
       "      <th>wgtp71</th>\n",
       "      <th>wgtp72</th>\n",
       "      <th>wgtp73</th>\n",
       "      <th>wgtp74</th>\n",
       "      <th>wgtp75</th>\n",
       "      <th>wgtp76</th>\n",
       "      <th>wgtp77</th>\n",
       "      <th>wgtp78</th>\n",
       "      <th>wgtp79</th>\n",
       "      <th>wgtp80</th>\n",
       "    </tr>\n",
       "    <tr>\n",
       "      <th>PUMA</th>\n",
       "      <th></th>\n",
       "      <th></th>\n",
       "      <th></th>\n",
       "      <th></th>\n",
       "      <th></th>\n",
       "      <th></th>\n",
       "      <th></th>\n",
       "      <th></th>\n",
       "      <th></th>\n",
       "      <th></th>\n",
       "      <th></th>\n",
       "      <th></th>\n",
       "      <th></th>\n",
       "      <th></th>\n",
       "      <th></th>\n",
       "      <th></th>\n",
       "      <th></th>\n",
       "      <th></th>\n",
       "      <th></th>\n",
       "      <th></th>\n",
       "      <th></th>\n",
       "    </tr>\n",
       "  </thead>\n",
       "  <tbody>\n",
       "    <tr>\n",
       "      <th>101</th>\n",
       "      <td>1.304666e+08</td>\n",
       "      <td>600.0</td>\n",
       "      <td>900.0</td>\n",
       "      <td>400.0</td>\n",
       "      <td>100000000.0</td>\n",
       "      <td>100758800.0</td>\n",
       "      <td>9200.000000</td>\n",
       "      <td>200.000000</td>\n",
       "      <td>100.0</td>\n",
       "      <td>300.0</td>\n",
       "      <td>...</td>\n",
       "      <td>2700.000000</td>\n",
       "      <td>9800.000000</td>\n",
       "      <td>11200.000000</td>\n",
       "      <td>14700.000000</td>\n",
       "      <td>9000.000000</td>\n",
       "      <td>12900.000000</td>\n",
       "      <td>12900.000000</td>\n",
       "      <td>2500.000000</td>\n",
       "      <td>2800.000000</td>\n",
       "      <td>7300.000000</td>\n",
       "    </tr>\n",
       "    <tr>\n",
       "      <th>102</th>\n",
       "      <td>6.603780e+07</td>\n",
       "      <td>600.0</td>\n",
       "      <td>900.0</td>\n",
       "      <td>400.0</td>\n",
       "      <td>100000000.0</td>\n",
       "      <td>100758800.0</td>\n",
       "      <td>10509.090909</td>\n",
       "      <td>290.909091</td>\n",
       "      <td>100.0</td>\n",
       "      <td>300.0</td>\n",
       "      <td>...</td>\n",
       "      <td>10145.454545</td>\n",
       "      <td>11218.181818</td>\n",
       "      <td>9690.909091</td>\n",
       "      <td>7869.696970</td>\n",
       "      <td>9972.727273</td>\n",
       "      <td>9930.303030</td>\n",
       "      <td>12866.666667</td>\n",
       "      <td>9203.030303</td>\n",
       "      <td>11163.636364</td>\n",
       "      <td>9727.272727</td>\n",
       "    </tr>\n",
       "    <tr>\n",
       "      <th>103</th>\n",
       "      <td>6.498473e+07</td>\n",
       "      <td>600.0</td>\n",
       "      <td>900.0</td>\n",
       "      <td>400.0</td>\n",
       "      <td>100000000.0</td>\n",
       "      <td>100758800.0</td>\n",
       "      <td>10685.714286</td>\n",
       "      <td>271.428571</td>\n",
       "      <td>100.0</td>\n",
       "      <td>300.0</td>\n",
       "      <td>...</td>\n",
       "      <td>12671.428571</td>\n",
       "      <td>11285.714286</td>\n",
       "      <td>11314.285714</td>\n",
       "      <td>10728.571429</td>\n",
       "      <td>12342.857143</td>\n",
       "      <td>8385.714286</td>\n",
       "      <td>9028.571429</td>\n",
       "      <td>10428.571429</td>\n",
       "      <td>10342.857143</td>\n",
       "      <td>9185.714286</td>\n",
       "    </tr>\n",
       "    <tr>\n",
       "      <th>104</th>\n",
       "      <td>8.319246e+07</td>\n",
       "      <td>600.0</td>\n",
       "      <td>900.0</td>\n",
       "      <td>400.0</td>\n",
       "      <td>100000000.0</td>\n",
       "      <td>100758800.0</td>\n",
       "      <td>11246.938776</td>\n",
       "      <td>391.836735</td>\n",
       "      <td>100.0</td>\n",
       "      <td>300.0</td>\n",
       "      <td>...</td>\n",
       "      <td>10969.387755</td>\n",
       "      <td>10822.448980</td>\n",
       "      <td>11061.224490</td>\n",
       "      <td>10932.653061</td>\n",
       "      <td>12306.122449</td>\n",
       "      <td>11328.571429</td>\n",
       "      <td>10528.571429</td>\n",
       "      <td>10808.163265</td>\n",
       "      <td>12126.530612</td>\n",
       "      <td>11522.448980</td>\n",
       "    </tr>\n",
       "    <tr>\n",
       "      <th>105</th>\n",
       "      <td>8.245407e+07</td>\n",
       "      <td>600.0</td>\n",
       "      <td>900.0</td>\n",
       "      <td>400.0</td>\n",
       "      <td>100000000.0</td>\n",
       "      <td>100758800.0</td>\n",
       "      <td>14700.000000</td>\n",
       "      <td>250.000000</td>\n",
       "      <td>100.0</td>\n",
       "      <td>300.0</td>\n",
       "      <td>...</td>\n",
       "      <td>11050.000000</td>\n",
       "      <td>16700.000000</td>\n",
       "      <td>16321.428571</td>\n",
       "      <td>10507.142857</td>\n",
       "      <td>14664.285714</td>\n",
       "      <td>14621.428571</td>\n",
       "      <td>13971.428571</td>\n",
       "      <td>15657.142857</td>\n",
       "      <td>14707.142857</td>\n",
       "      <td>13021.428571</td>\n",
       "    </tr>\n",
       "    <tr>\n",
       "      <th>106</th>\n",
       "      <td>8.631878e+07</td>\n",
       "      <td>600.0</td>\n",
       "      <td>900.0</td>\n",
       "      <td>400.0</td>\n",
       "      <td>100000000.0</td>\n",
       "      <td>100758800.0</td>\n",
       "      <td>14707.692308</td>\n",
       "      <td>276.923077</td>\n",
       "      <td>100.0</td>\n",
       "      <td>300.0</td>\n",
       "      <td>...</td>\n",
       "      <td>13253.846154</td>\n",
       "      <td>17476.923077</td>\n",
       "      <td>18653.846154</td>\n",
       "      <td>11230.769231</td>\n",
       "      <td>10623.076923</td>\n",
       "      <td>11569.230769</td>\n",
       "      <td>12769.230769</td>\n",
       "      <td>16807.692308</td>\n",
       "      <td>16284.615385</td>\n",
       "      <td>14900.000000</td>\n",
       "    </tr>\n",
       "    <tr>\n",
       "      <th>107</th>\n",
       "      <td>6.967378e+07</td>\n",
       "      <td>600.0</td>\n",
       "      <td>900.0</td>\n",
       "      <td>400.0</td>\n",
       "      <td>100000000.0</td>\n",
       "      <td>100758800.0</td>\n",
       "      <td>10786.956522</td>\n",
       "      <td>295.652174</td>\n",
       "      <td>100.0</td>\n",
       "      <td>300.0</td>\n",
       "      <td>...</td>\n",
       "      <td>9456.521739</td>\n",
       "      <td>13400.000000</td>\n",
       "      <td>12673.913043</td>\n",
       "      <td>13078.260870</td>\n",
       "      <td>10308.695652</td>\n",
       "      <td>12308.695652</td>\n",
       "      <td>11765.217391</td>\n",
       "      <td>8695.652174</td>\n",
       "      <td>12565.217391</td>\n",
       "      <td>8652.173913</td>\n",
       "    </tr>\n",
       "    <tr>\n",
       "      <th>108</th>\n",
       "      <td>7.960223e+07</td>\n",
       "      <td>600.0</td>\n",
       "      <td>900.0</td>\n",
       "      <td>400.0</td>\n",
       "      <td>100000000.0</td>\n",
       "      <td>100758800.0</td>\n",
       "      <td>10353.333333</td>\n",
       "      <td>380.000000</td>\n",
       "      <td>100.0</td>\n",
       "      <td>300.0</td>\n",
       "      <td>...</td>\n",
       "      <td>11100.000000</td>\n",
       "      <td>12006.666667</td>\n",
       "      <td>10533.333333</td>\n",
       "      <td>8966.666667</td>\n",
       "      <td>9553.333333</td>\n",
       "      <td>11340.000000</td>\n",
       "      <td>10533.333333</td>\n",
       "      <td>9400.000000</td>\n",
       "      <td>10713.333333</td>\n",
       "      <td>9626.666667</td>\n",
       "    </tr>\n",
       "    <tr>\n",
       "      <th>109</th>\n",
       "      <td>7.345981e+07</td>\n",
       "      <td>600.0</td>\n",
       "      <td>900.0</td>\n",
       "      <td>400.0</td>\n",
       "      <td>100000000.0</td>\n",
       "      <td>100758800.0</td>\n",
       "      <td>11106.250000</td>\n",
       "      <td>318.750000</td>\n",
       "      <td>100.0</td>\n",
       "      <td>300.0</td>\n",
       "      <td>...</td>\n",
       "      <td>13137.500000</td>\n",
       "      <td>10468.750000</td>\n",
       "      <td>12218.750000</td>\n",
       "      <td>11025.000000</td>\n",
       "      <td>13337.500000</td>\n",
       "      <td>15175.000000</td>\n",
       "      <td>10018.750000</td>\n",
       "      <td>7556.250000</td>\n",
       "      <td>14387.500000</td>\n",
       "      <td>13943.750000</td>\n",
       "    </tr>\n",
       "    <tr>\n",
       "      <th>110</th>\n",
       "      <td>7.158295e+07</td>\n",
       "      <td>600.0</td>\n",
       "      <td>900.0</td>\n",
       "      <td>400.0</td>\n",
       "      <td>100000000.0</td>\n",
       "      <td>100758800.0</td>\n",
       "      <td>20700.000000</td>\n",
       "      <td>300.000000</td>\n",
       "      <td>100.0</td>\n",
       "      <td>300.0</td>\n",
       "      <td>...</td>\n",
       "      <td>27300.000000</td>\n",
       "      <td>18650.000000</td>\n",
       "      <td>20350.000000</td>\n",
       "      <td>9150.000000</td>\n",
       "      <td>25900.000000</td>\n",
       "      <td>6000.000000</td>\n",
       "      <td>9100.000000</td>\n",
       "      <td>19850.000000</td>\n",
       "      <td>20750.000000</td>\n",
       "      <td>19200.000000</td>\n",
       "    </tr>\n",
       "  </tbody>\n",
       "</table>\n",
       "<p>10 rows × 228 columns</p>\n",
       "</div>"
      ],
      "text/plain": [
       "          SERIALNO     ST  DIVISION  REGION       ADJHSG       ADJINC  \\\n",
       "PUMA                                                                    \n",
       "101   1.304666e+08  600.0     900.0   400.0  100000000.0  100758800.0   \n",
       "102   6.603780e+07  600.0     900.0   400.0  100000000.0  100758800.0   \n",
       "103   6.498473e+07  600.0     900.0   400.0  100000000.0  100758800.0   \n",
       "104   8.319246e+07  600.0     900.0   400.0  100000000.0  100758800.0   \n",
       "105   8.245407e+07  600.0     900.0   400.0  100000000.0  100758800.0   \n",
       "106   8.631878e+07  600.0     900.0   400.0  100000000.0  100758800.0   \n",
       "107   6.967378e+07  600.0     900.0   400.0  100000000.0  100758800.0   \n",
       "108   7.960223e+07  600.0     900.0   400.0  100000000.0  100758800.0   \n",
       "109   7.345981e+07  600.0     900.0   400.0  100000000.0  100758800.0   \n",
       "110   7.158295e+07  600.0     900.0   400.0  100000000.0  100758800.0   \n",
       "\n",
       "              WGTP          NP   TYPE  ACCESS      ...             wgtp71  \\\n",
       "PUMA                                               ...                      \n",
       "101    9200.000000  200.000000  100.0   300.0      ...        2700.000000   \n",
       "102   10509.090909  290.909091  100.0   300.0      ...       10145.454545   \n",
       "103   10685.714286  271.428571  100.0   300.0      ...       12671.428571   \n",
       "104   11246.938776  391.836735  100.0   300.0      ...       10969.387755   \n",
       "105   14700.000000  250.000000  100.0   300.0      ...       11050.000000   \n",
       "106   14707.692308  276.923077  100.0   300.0      ...       13253.846154   \n",
       "107   10786.956522  295.652174  100.0   300.0      ...        9456.521739   \n",
       "108   10353.333333  380.000000  100.0   300.0      ...       11100.000000   \n",
       "109   11106.250000  318.750000  100.0   300.0      ...       13137.500000   \n",
       "110   20700.000000  300.000000  100.0   300.0      ...       27300.000000   \n",
       "\n",
       "            wgtp72        wgtp73        wgtp74        wgtp75        wgtp76  \\\n",
       "PUMA                                                                         \n",
       "101    9800.000000  11200.000000  14700.000000   9000.000000  12900.000000   \n",
       "102   11218.181818   9690.909091   7869.696970   9972.727273   9930.303030   \n",
       "103   11285.714286  11314.285714  10728.571429  12342.857143   8385.714286   \n",
       "104   10822.448980  11061.224490  10932.653061  12306.122449  11328.571429   \n",
       "105   16700.000000  16321.428571  10507.142857  14664.285714  14621.428571   \n",
       "106   17476.923077  18653.846154  11230.769231  10623.076923  11569.230769   \n",
       "107   13400.000000  12673.913043  13078.260870  10308.695652  12308.695652   \n",
       "108   12006.666667  10533.333333   8966.666667   9553.333333  11340.000000   \n",
       "109   10468.750000  12218.750000  11025.000000  13337.500000  15175.000000   \n",
       "110   18650.000000  20350.000000   9150.000000  25900.000000   6000.000000   \n",
       "\n",
       "            wgtp77        wgtp78        wgtp79        wgtp80  \n",
       "PUMA                                                          \n",
       "101   12900.000000   2500.000000   2800.000000   7300.000000  \n",
       "102   12866.666667   9203.030303  11163.636364   9727.272727  \n",
       "103    9028.571429  10428.571429  10342.857143   9185.714286  \n",
       "104   10528.571429  10808.163265  12126.530612  11522.448980  \n",
       "105   13971.428571  15657.142857  14707.142857  13021.428571  \n",
       "106   12769.230769  16807.692308  16284.615385  14900.000000  \n",
       "107   11765.217391   8695.652174  12565.217391   8652.173913  \n",
       "108   10533.333333   9400.000000  10713.333333   9626.666667  \n",
       "109   10018.750000   7556.250000  14387.500000  13943.750000  \n",
       "110    9100.000000  19850.000000  20750.000000  19200.000000  \n",
       "\n",
       "[10 rows x 228 columns]"
      ]
     },
     "execution_count": 26,
     "metadata": {},
     "output_type": "execute_result"
    }
   ],
   "source": [
    "alameda_internet"
   ]
  },
  {
   "cell_type": "code",
   "execution_count": 17,
   "metadata": {
    "collapsed": false
   },
   "outputs": [
    {
     "ename": "ValueError",
     "evalue": "Wrong number of items passed 228, placement implies 1",
     "output_type": "error",
     "traceback": [
      "\u001b[0;31m---------------------------------------------------------------------------\u001b[0m",
      "\u001b[0;31mKeyError\u001b[0m                                  Traceback (most recent call last)",
      "\u001b[0;32m/usr/local/lib/python3.6/site-packages/pandas/core/indexes/base.py\u001b[0m in \u001b[0;36mget_loc\u001b[0;34m(self, key, method, tolerance)\u001b[0m\n\u001b[1;32m   3063\u001b[0m             \u001b[0;32mtry\u001b[0m\u001b[0;34m:\u001b[0m\u001b[0;34m\u001b[0m\u001b[0m\n\u001b[0;32m-> 3064\u001b[0;31m                 \u001b[0;32mreturn\u001b[0m \u001b[0mself\u001b[0m\u001b[0;34m.\u001b[0m\u001b[0m_engine\u001b[0m\u001b[0;34m.\u001b[0m\u001b[0mget_loc\u001b[0m\u001b[0;34m(\u001b[0m\u001b[0mkey\u001b[0m\u001b[0;34m)\u001b[0m\u001b[0;34m\u001b[0m\u001b[0m\n\u001b[0m\u001b[1;32m   3065\u001b[0m             \u001b[0;32mexcept\u001b[0m \u001b[0mKeyError\u001b[0m\u001b[0;34m:\u001b[0m\u001b[0;34m\u001b[0m\u001b[0m\n",
      "\u001b[0;32mpandas/_libs/index.pyx\u001b[0m in \u001b[0;36mpandas._libs.index.IndexEngine.get_loc\u001b[0;34m()\u001b[0m\n",
      "\u001b[0;32mpandas/_libs/index.pyx\u001b[0m in \u001b[0;36mpandas._libs.index.IndexEngine.get_loc\u001b[0;34m()\u001b[0m\n",
      "\u001b[0;32mpandas/_libs/hashtable_class_helper.pxi\u001b[0m in \u001b[0;36mpandas._libs.hashtable.PyObjectHashTable.get_item\u001b[0;34m()\u001b[0m\n",
      "\u001b[0;32mpandas/_libs/hashtable_class_helper.pxi\u001b[0m in \u001b[0;36mpandas._libs.hashtable.PyObjectHashTable.get_item\u001b[0;34m()\u001b[0m\n",
      "\u001b[0;31mKeyError\u001b[0m: 'internet'",
      "\nDuring handling of the above exception, another exception occurred:\n",
      "\u001b[0;31mKeyError\u001b[0m                                  Traceback (most recent call last)",
      "\u001b[0;32m/usr/local/lib/python3.6/site-packages/pandas/core/internals.py\u001b[0m in \u001b[0;36mset\u001b[0;34m(self, item, value, check)\u001b[0m\n\u001b[1;32m   4242\u001b[0m         \u001b[0;32mtry\u001b[0m\u001b[0;34m:\u001b[0m\u001b[0;34m\u001b[0m\u001b[0m\n\u001b[0;32m-> 4243\u001b[0;31m             \u001b[0mloc\u001b[0m \u001b[0;34m=\u001b[0m \u001b[0mself\u001b[0m\u001b[0;34m.\u001b[0m\u001b[0mitems\u001b[0m\u001b[0;34m.\u001b[0m\u001b[0mget_loc\u001b[0m\u001b[0;34m(\u001b[0m\u001b[0mitem\u001b[0m\u001b[0;34m)\u001b[0m\u001b[0;34m\u001b[0m\u001b[0m\n\u001b[0m\u001b[1;32m   4244\u001b[0m         \u001b[0;32mexcept\u001b[0m \u001b[0mKeyError\u001b[0m\u001b[0;34m:\u001b[0m\u001b[0;34m\u001b[0m\u001b[0m\n",
      "\u001b[0;32m/usr/local/lib/python3.6/site-packages/pandas/core/indexes/base.py\u001b[0m in \u001b[0;36mget_loc\u001b[0;34m(self, key, method, tolerance)\u001b[0m\n\u001b[1;32m   3065\u001b[0m             \u001b[0;32mexcept\u001b[0m \u001b[0mKeyError\u001b[0m\u001b[0;34m:\u001b[0m\u001b[0;34m\u001b[0m\u001b[0m\n\u001b[0;32m-> 3066\u001b[0;31m                 \u001b[0;32mreturn\u001b[0m \u001b[0mself\u001b[0m\u001b[0;34m.\u001b[0m\u001b[0m_engine\u001b[0m\u001b[0;34m.\u001b[0m\u001b[0mget_loc\u001b[0m\u001b[0;34m(\u001b[0m\u001b[0mself\u001b[0m\u001b[0;34m.\u001b[0m\u001b[0m_maybe_cast_indexer\u001b[0m\u001b[0;34m(\u001b[0m\u001b[0mkey\u001b[0m\u001b[0;34m)\u001b[0m\u001b[0;34m)\u001b[0m\u001b[0;34m\u001b[0m\u001b[0m\n\u001b[0m\u001b[1;32m   3067\u001b[0m \u001b[0;34m\u001b[0m\u001b[0m\n",
      "\u001b[0;32mpandas/_libs/index.pyx\u001b[0m in \u001b[0;36mpandas._libs.index.IndexEngine.get_loc\u001b[0;34m()\u001b[0m\n",
      "\u001b[0;32mpandas/_libs/index.pyx\u001b[0m in \u001b[0;36mpandas._libs.index.IndexEngine.get_loc\u001b[0;34m()\u001b[0m\n",
      "\u001b[0;32mpandas/_libs/hashtable_class_helper.pxi\u001b[0m in \u001b[0;36mpandas._libs.hashtable.PyObjectHashTable.get_item\u001b[0;34m()\u001b[0m\n",
      "\u001b[0;32mpandas/_libs/hashtable_class_helper.pxi\u001b[0m in \u001b[0;36mpandas._libs.hashtable.PyObjectHashTable.get_item\u001b[0;34m()\u001b[0m\n",
      "\u001b[0;31mKeyError\u001b[0m: 'internet'",
      "\nDuring handling of the above exception, another exception occurred:\n",
      "\u001b[0;31mValueError\u001b[0m                                Traceback (most recent call last)",
      "\u001b[0;32m<ipython-input-17-0f0036c9de0a>\u001b[0m in \u001b[0;36m<module>\u001b[0;34m()\u001b[0m\n\u001b[1;32m      1\u001b[0m \u001b[0malameda_geoframe\u001b[0m \u001b[0;34m=\u001b[0m \u001b[0mpumas\u001b[0m\u001b[0;34m.\u001b[0m\u001b[0mloc\u001b[0m\u001b[0;34m[\u001b[0m\u001b[0mpumas\u001b[0m\u001b[0;34m.\u001b[0m\u001b[0mNAME10\u001b[0m\u001b[0;34m.\u001b[0m\u001b[0mstr\u001b[0m\u001b[0;34m.\u001b[0m\u001b[0mcontains\u001b[0m\u001b[0;34m(\u001b[0m\u001b[0;34m'Alameda County'\u001b[0m\u001b[0;34m)\u001b[0m\u001b[0;34m]\u001b[0m\u001b[0;34m\u001b[0m\u001b[0m\n\u001b[0;32m----> 2\u001b[0;31m \u001b[0malameda_geoframe\u001b[0m\u001b[0;34m[\u001b[0m\u001b[0;34m'internet'\u001b[0m\u001b[0;34m]\u001b[0m \u001b[0;34m=\u001b[0m \u001b[0mnp\u001b[0m\u001b[0;34m.\u001b[0m\u001b[0marray\u001b[0m\u001b[0;34m(\u001b[0m\u001b[0malameda_internet\u001b[0m\u001b[0;34m)\u001b[0m\u001b[0;34m\u001b[0m\u001b[0m\n\u001b[0m",
      "\u001b[0;32m/usr/local/lib/python3.6/site-packages/pandas/core/frame.py\u001b[0m in \u001b[0;36m__setitem__\u001b[0;34m(self, key, value)\u001b[0m\n\u001b[1;32m   3117\u001b[0m         \u001b[0;32melse\u001b[0m\u001b[0;34m:\u001b[0m\u001b[0;34m\u001b[0m\u001b[0m\n\u001b[1;32m   3118\u001b[0m             \u001b[0;31m# set column\u001b[0m\u001b[0;34m\u001b[0m\u001b[0;34m\u001b[0m\u001b[0m\n\u001b[0;32m-> 3119\u001b[0;31m             \u001b[0mself\u001b[0m\u001b[0;34m.\u001b[0m\u001b[0m_set_item\u001b[0m\u001b[0;34m(\u001b[0m\u001b[0mkey\u001b[0m\u001b[0;34m,\u001b[0m \u001b[0mvalue\u001b[0m\u001b[0;34m)\u001b[0m\u001b[0;34m\u001b[0m\u001b[0m\n\u001b[0m\u001b[1;32m   3120\u001b[0m \u001b[0;34m\u001b[0m\u001b[0m\n\u001b[1;32m   3121\u001b[0m     \u001b[0;32mdef\u001b[0m \u001b[0m_setitem_slice\u001b[0m\u001b[0;34m(\u001b[0m\u001b[0mself\u001b[0m\u001b[0;34m,\u001b[0m \u001b[0mkey\u001b[0m\u001b[0;34m,\u001b[0m \u001b[0mvalue\u001b[0m\u001b[0;34m)\u001b[0m\u001b[0;34m:\u001b[0m\u001b[0;34m\u001b[0m\u001b[0m\n",
      "\u001b[0;32m/usr/local/lib/python3.6/site-packages/pandas/core/frame.py\u001b[0m in \u001b[0;36m_set_item\u001b[0;34m(self, key, value)\u001b[0m\n\u001b[1;32m   3193\u001b[0m         \u001b[0mself\u001b[0m\u001b[0;34m.\u001b[0m\u001b[0m_ensure_valid_index\u001b[0m\u001b[0;34m(\u001b[0m\u001b[0mvalue\u001b[0m\u001b[0;34m)\u001b[0m\u001b[0;34m\u001b[0m\u001b[0m\n\u001b[1;32m   3194\u001b[0m         \u001b[0mvalue\u001b[0m \u001b[0;34m=\u001b[0m \u001b[0mself\u001b[0m\u001b[0;34m.\u001b[0m\u001b[0m_sanitize_column\u001b[0m\u001b[0;34m(\u001b[0m\u001b[0mkey\u001b[0m\u001b[0;34m,\u001b[0m \u001b[0mvalue\u001b[0m\u001b[0;34m)\u001b[0m\u001b[0;34m\u001b[0m\u001b[0m\n\u001b[0;32m-> 3195\u001b[0;31m         \u001b[0mNDFrame\u001b[0m\u001b[0;34m.\u001b[0m\u001b[0m_set_item\u001b[0m\u001b[0;34m(\u001b[0m\u001b[0mself\u001b[0m\u001b[0;34m,\u001b[0m \u001b[0mkey\u001b[0m\u001b[0;34m,\u001b[0m \u001b[0mvalue\u001b[0m\u001b[0;34m)\u001b[0m\u001b[0;34m\u001b[0m\u001b[0m\n\u001b[0m\u001b[1;32m   3196\u001b[0m \u001b[0;34m\u001b[0m\u001b[0m\n\u001b[1;32m   3197\u001b[0m         \u001b[0;31m# check if we are modifying a copy\u001b[0m\u001b[0;34m\u001b[0m\u001b[0;34m\u001b[0m\u001b[0m\n",
      "\u001b[0;32m/usr/local/lib/python3.6/site-packages/pandas/core/generic.py\u001b[0m in \u001b[0;36m_set_item\u001b[0;34m(self, key, value)\u001b[0m\n\u001b[1;32m   2595\u001b[0m \u001b[0;34m\u001b[0m\u001b[0m\n\u001b[1;32m   2596\u001b[0m     \u001b[0;32mdef\u001b[0m \u001b[0m_set_item\u001b[0m\u001b[0;34m(\u001b[0m\u001b[0mself\u001b[0m\u001b[0;34m,\u001b[0m \u001b[0mkey\u001b[0m\u001b[0;34m,\u001b[0m \u001b[0mvalue\u001b[0m\u001b[0;34m)\u001b[0m\u001b[0;34m:\u001b[0m\u001b[0;34m\u001b[0m\u001b[0m\n\u001b[0;32m-> 2597\u001b[0;31m         \u001b[0mself\u001b[0m\u001b[0;34m.\u001b[0m\u001b[0m_data\u001b[0m\u001b[0;34m.\u001b[0m\u001b[0mset\u001b[0m\u001b[0;34m(\u001b[0m\u001b[0mkey\u001b[0m\u001b[0;34m,\u001b[0m \u001b[0mvalue\u001b[0m\u001b[0;34m)\u001b[0m\u001b[0;34m\u001b[0m\u001b[0m\n\u001b[0m\u001b[1;32m   2598\u001b[0m         \u001b[0mself\u001b[0m\u001b[0;34m.\u001b[0m\u001b[0m_clear_item_cache\u001b[0m\u001b[0;34m(\u001b[0m\u001b[0;34m)\u001b[0m\u001b[0;34m\u001b[0m\u001b[0m\n\u001b[1;32m   2599\u001b[0m \u001b[0;34m\u001b[0m\u001b[0m\n",
      "\u001b[0;32m/usr/local/lib/python3.6/site-packages/pandas/core/internals.py\u001b[0m in \u001b[0;36mset\u001b[0;34m(self, item, value, check)\u001b[0m\n\u001b[1;32m   4244\u001b[0m         \u001b[0;32mexcept\u001b[0m \u001b[0mKeyError\u001b[0m\u001b[0;34m:\u001b[0m\u001b[0;34m\u001b[0m\u001b[0m\n\u001b[1;32m   4245\u001b[0m             \u001b[0;31m# This item wasn't present, just insert at end\u001b[0m\u001b[0;34m\u001b[0m\u001b[0;34m\u001b[0m\u001b[0m\n\u001b[0;32m-> 4246\u001b[0;31m             \u001b[0mself\u001b[0m\u001b[0;34m.\u001b[0m\u001b[0minsert\u001b[0m\u001b[0;34m(\u001b[0m\u001b[0mlen\u001b[0m\u001b[0;34m(\u001b[0m\u001b[0mself\u001b[0m\u001b[0;34m.\u001b[0m\u001b[0mitems\u001b[0m\u001b[0;34m)\u001b[0m\u001b[0;34m,\u001b[0m \u001b[0mitem\u001b[0m\u001b[0;34m,\u001b[0m \u001b[0mvalue\u001b[0m\u001b[0;34m)\u001b[0m\u001b[0;34m\u001b[0m\u001b[0m\n\u001b[0m\u001b[1;32m   4247\u001b[0m             \u001b[0;32mreturn\u001b[0m\u001b[0;34m\u001b[0m\u001b[0m\n\u001b[1;32m   4248\u001b[0m \u001b[0;34m\u001b[0m\u001b[0m\n",
      "\u001b[0;32m/usr/local/lib/python3.6/site-packages/pandas/core/internals.py\u001b[0m in \u001b[0;36minsert\u001b[0;34m(self, loc, item, value, allow_duplicates)\u001b[0m\n\u001b[1;32m   4345\u001b[0m \u001b[0;34m\u001b[0m\u001b[0m\n\u001b[1;32m   4346\u001b[0m         block = make_block(values=value, ndim=self.ndim,\n\u001b[0;32m-> 4347\u001b[0;31m                            placement=slice(loc, loc + 1))\n\u001b[0m\u001b[1;32m   4348\u001b[0m \u001b[0;34m\u001b[0m\u001b[0m\n\u001b[1;32m   4349\u001b[0m         \u001b[0;32mfor\u001b[0m \u001b[0mblkno\u001b[0m\u001b[0;34m,\u001b[0m \u001b[0mcount\u001b[0m \u001b[0;32min\u001b[0m \u001b[0m_fast_count_smallints\u001b[0m\u001b[0;34m(\u001b[0m\u001b[0mself\u001b[0m\u001b[0;34m.\u001b[0m\u001b[0m_blknos\u001b[0m\u001b[0;34m[\u001b[0m\u001b[0mloc\u001b[0m\u001b[0;34m:\u001b[0m\u001b[0;34m]\u001b[0m\u001b[0;34m)\u001b[0m\u001b[0;34m:\u001b[0m\u001b[0;34m\u001b[0m\u001b[0m\n",
      "\u001b[0;32m/usr/local/lib/python3.6/site-packages/pandas/core/internals.py\u001b[0m in \u001b[0;36mmake_block\u001b[0;34m(values, placement, klass, ndim, dtype, fastpath)\u001b[0m\n\u001b[1;32m   3203\u001b[0m                      placement=placement, dtype=dtype)\n\u001b[1;32m   3204\u001b[0m \u001b[0;34m\u001b[0m\u001b[0m\n\u001b[0;32m-> 3205\u001b[0;31m     \u001b[0;32mreturn\u001b[0m \u001b[0mklass\u001b[0m\u001b[0;34m(\u001b[0m\u001b[0mvalues\u001b[0m\u001b[0;34m,\u001b[0m \u001b[0mndim\u001b[0m\u001b[0;34m=\u001b[0m\u001b[0mndim\u001b[0m\u001b[0;34m,\u001b[0m \u001b[0mplacement\u001b[0m\u001b[0;34m=\u001b[0m\u001b[0mplacement\u001b[0m\u001b[0;34m)\u001b[0m\u001b[0;34m\u001b[0m\u001b[0m\n\u001b[0m\u001b[1;32m   3206\u001b[0m \u001b[0;34m\u001b[0m\u001b[0m\n\u001b[1;32m   3207\u001b[0m \u001b[0;31m# TODO: flexible with index=None and/or items=None\u001b[0m\u001b[0;34m\u001b[0m\u001b[0;34m\u001b[0m\u001b[0m\n",
      "\u001b[0;32m/usr/local/lib/python3.6/site-packages/pandas/core/internals.py\u001b[0m in \u001b[0;36m__init__\u001b[0;34m(self, values, placement, ndim)\u001b[0m\n\u001b[1;32m    123\u001b[0m             raise ValueError(\n\u001b[1;32m    124\u001b[0m                 \u001b[0;34m'Wrong number of items passed {val}, placement implies '\u001b[0m\u001b[0;34m\u001b[0m\u001b[0m\n\u001b[0;32m--> 125\u001b[0;31m                 '{mgr}'.format(val=len(self.values), mgr=len(self.mgr_locs)))\n\u001b[0m\u001b[1;32m    126\u001b[0m \u001b[0;34m\u001b[0m\u001b[0m\n\u001b[1;32m    127\u001b[0m     \u001b[0;32mdef\u001b[0m \u001b[0m_check_ndim\u001b[0m\u001b[0;34m(\u001b[0m\u001b[0mself\u001b[0m\u001b[0;34m,\u001b[0m \u001b[0mvalues\u001b[0m\u001b[0;34m,\u001b[0m \u001b[0mndim\u001b[0m\u001b[0;34m)\u001b[0m\u001b[0;34m:\u001b[0m\u001b[0;34m\u001b[0m\u001b[0m\n",
      "\u001b[0;31mValueError\u001b[0m: Wrong number of items passed 228, placement implies 1"
     ]
    }
   ],
   "source": [
    "alameda_geoframe = pumas.loc[pumas.NAME10.str.contains('Alameda County')]\n",
    "alameda_geoframe['internet'] = np.array(alameda_internet)"
   ]
  },
  {
   "cell_type": "code",
   "execution_count": 66,
   "metadata": {
    "collapsed": false
   },
   "outputs": [
    {
     "data": {
      "text/html": [
       "<iframe src=\"data:text/html;base64,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\" width=\"100%\" height=\"600\"></iframe>"
      ],
      "text/plain": [
       "<IPython.core.display.HTML object>"
      ]
     },
     "execution_count": 66,
     "metadata": {},
     "output_type": "execute_result"
    }
   ],
   "source": [
    "import mplleaflet\n",
    "ax = alameda_geoframe.plot(edgecolor='black', alpha=0.75, figsize=(20, 10), column='internet', cmap='Blues', scheme='quantiles')\n",
    "mplleaflet.display(fig=ax.figure)"
   ]
  },
  {
   "cell_type": "code",
   "execution_count": null,
   "metadata": {
    "collapsed": true
   },
   "outputs": [],
   "source": []
  }
 ],
 "metadata": {
  "kernelspec": {
   "display_name": "Python 3",
   "language": "python",
   "name": "python3"
  },
  "language_info": {
   "codemirror_mode": {
    "name": "ipython",
    "version": 3
   },
   "file_extension": ".py",
   "mimetype": "text/x-python",
   "name": "python",
   "nbconvert_exporter": "python",
   "pygments_lexer": "ipython3",
   "version": "3.6.5"
  },
  "varInspector": {
   "cols": {
    "lenName": 16,
    "lenType": 16,
    "lenVar": 40
   },
   "kernels_config": {
    "python": {
     "delete_cmd_postfix": "",
     "delete_cmd_prefix": "del ",
     "library": "var_list.py",
     "varRefreshCmd": "print(var_dic_list())"
    },
    "r": {
     "delete_cmd_postfix": ") ",
     "delete_cmd_prefix": "rm(",
     "library": "var_list.r",
     "varRefreshCmd": "cat(var_dic_list()) "
    }
   },
   "types_to_exclude": [
    "module",
    "function",
    "builtin_function_or_method",
    "instance",
    "_Feature"
   ],
   "window_display": false
  }
 },
 "nbformat": 4,
 "nbformat_minor": 2
}

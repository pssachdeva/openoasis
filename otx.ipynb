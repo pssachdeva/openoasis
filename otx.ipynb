{
 "cells": [
  {
   "cell_type": "code",
   "execution_count": 1,
   "metadata": {
    "collapsed": true
   },
   "outputs": [],
   "source": [
    "import numpy as np\n",
    "import pandas as pd\n",
    "from dplython import *\n",
    "#import plotnine"
   ]
  },
  {
   "cell_type": "markdown",
   "metadata": {},
   "source": [
    "# Calculate Low-Income Thresholds"
   ]
  },
  {
   "cell_type": "code",
   "execution_count": 2,
   "metadata": {
    "collapsed": true
   },
   "outputs": [],
   "source": [
    "# puma codes for alameda, contra costa, and san francisco counties\n",
    "alameda_puma = np.arange(101, 111)\n",
    "cc_puma = np.arange(1301, 1310)\n",
    "sf_puma = np.arange(7501, 7508)"
   ]
  },
  {
   "cell_type": "code",
   "execution_count": 3,
   "metadata": {
    "collapsed": true
   },
   "outputs": [],
   "source": [
    "def extend_low_income(thres, upper_N=16):\n",
    "    extras = (np.arange(9, upper_N) - 8) * thres[3] * 0.08 + thres[-1]\n",
    "    thres = np.append(thres, extras)\n",
    "    return thres"
   ]
  },
  {
   "cell_type": "code",
   "execution_count": 4,
   "metadata": {
    "collapsed": true
   },
   "outputs": [],
   "source": [
    "# alameda, contra costa, and sf low income thresholds per number of persons in household \n",
    "alameda_low_income = np.array([62750, 71700, 80650, 89600, 96800, 103950, 111150, 118300])\n",
    "cc_low_income = np.array([62750, 71700, 80650, 89600, 96800, 103950, 111150, 118300])\n",
    "sf_low_income = np.array([82200, 93950, 105700, 117400, 126800, 136200, 145600, 155000])\n",
    "# extend the low income thresholds for households of size >8\n",
    "alameda_low_income = extend_low_income(alameda_low_income)\n",
    "cc_low_income = extend_low_income(cc_low_income)\n",
    "sf_low_income = extend_low_income(sf_low_income)\n",
    "# store in list\n",
    "low_income_thresholds = [alameda_low_income, cc_low_income, sf_low_income]"
   ]
  },
  {
   "cell_type": "markdown",
   "metadata": {},
   "source": [
    "# Consolidate Low-Income Tables"
   ]
  },
  {
   "cell_type": "code",
   "execution_count": 5,
   "metadata": {
    "collapsed": false
   },
   "outputs": [],
   "source": [
    "# read in household PUMS data\n",
    "hca = pd.read_csv('ss16hca.csv')"
   ]
  },
  {
   "cell_type": "code",
   "execution_count": 6,
   "metadata": {
    "collapsed": false
   },
   "outputs": [],
   "source": [
    "# extract samples corresponding to each county\n",
    "alameda = hca.loc[hca.PUMA.isin(alameda_puma)]\n",
    "cc = hca.loc[hca.PUMA.isin(cc_puma)]\n",
    "sf = hca.loc[hca.PUMA.isin(sf_puma)]\n",
    "# store tables in list\n",
    "tables = [alameda, cc, sf]"
   ]
  },
  {
   "cell_type": "code",
   "execution_count": 7,
   "metadata": {
    "collapsed": true
   },
   "outputs": [],
   "source": [
    "# extract low income portion of the table\n",
    "low_income_tables = []\n",
    "# use FINCP or HINCP?\n",
    "for idx, table in enumerate(tables):\n",
    "    # remove NaN household incomes\n",
    "    table = table.loc[table.FINCP.notna()]\n",
    "    low_income_threshold = low_income_thresholds[idx]\n",
    "    low_income_table = table.loc[table.FINCP < low_income_threshold[table.NP - 1]]\n",
    "    low_income_tables.append(low_income_table)"
   ]
  },
  {
   "cell_type": "code",
   "execution_count": 8,
   "metadata": {
    "collapsed": true
   },
   "outputs": [],
   "source": [
    "def calculate_percentages_from_table(table, table_variable, var_value, weighted=True):\n",
    "    if weighted:\n",
    "        weighted_total_sum = table.WGTP.sum()\n",
    "        weighted_subset_sum = table.loc[table[table_variable] == var_value].WGTP.sum()\n",
    "        final_percentage = 100 * weighted_subset_sum/weighted_total_sum\n",
    "    else:\n",
    "        total_sum = table.shape[0]\n",
    "        subset_sum = table.loc[table[table_variable] == var_value].shape[0]\n",
    "        final_percentage = 100 * subset_sum/total_sum\n",
    "        \n",
    "    return final_percentage"
   ]
  },
  {
   "cell_type": "markdown",
   "metadata": {},
   "source": [
    "# Brief note on data completeness"
   ]
  },
  {
   "cell_type": "code",
   "execution_count": 9,
   "metadata": {},
   "outputs": [
    {
     "name": "stdout",
     "output_type": "stream",
     "text": [
      "There are 1684 complete rows using family income/number of individuals\n",
      "There are 3351 complete rows using household income/number of individuals\n"
     ]
    }
   ],
   "source": [
    "dpl_sf = DplyFrame(sf)\n",
    "\n",
    "print(\"There are\", dpl_sf >> select(X.FINCP, X.NPF, X.LAPTOP, X.ACCESS) >> X.dropna() >> nrow(), \"complete rows using family income/number of individuals\")\n",
    "\n",
    "print(\"There are\", dpl_sf >> select(X.HINCP, X.NP, X.LAPTOP, X.ACCESS) >> X.dropna() >> nrow(), \"complete rows using household income/number of individuals\")"
   ]
  },
  {
   "cell_type": "markdown",
   "metadata": {},
   "source": [
    "# Make some dplython dfs for exploration"
   ]
  },
  {
   "cell_type": "code",
   "execution_count": 10,
   "metadata": {},
   "outputs": [],
   "source": [
    "dpl_sf_li = DplyFrame(low_income_tables[2])\n",
    "dpl_ala_li = DplyFrame(low_income_tables[0])\n",
    "dpl_cc_li = DplyFrame(low_income_tables[1])"
   ]
  },
  {
   "cell_type": "markdown",
   "metadata": {},
   "source": [
    "# Internet \n",
    "\n",
    "#### Any access - ACCESS var"
   ]
  },
  {
   "cell_type": "code",
   "execution_count": 11,
   "metadata": {
    "collapsed": false
   },
   "outputs": [
    {
     "name": "stdout",
     "output_type": "stream",
     "text": [
      "In Alameda County, 13.44% of low income households lack access to the Internet at home.\n",
      "In San Francisco County, 10.73% of low income households lack access to the Internet at home.\n",
      "In Contra Costa County, 8.65% of low income households lack access to the Internet at home.\n"
     ]
    }
   ],
   "source": [
    "alameda_internet = calculate_percentages_from_table(low_income_tables[0], \"ACCESS\", 3)\n",
    "print('In Alameda County, %0.2f%% of low income households lack access to the Internet at home.' %alameda_internet)\n",
    "sf_internet = calculate_percentages_from_table(low_income_tables[2], \"ACCESS\", 3)\n",
    "print('In San Francisco County, %0.2f%% of low income households lack access to the Internet at home.' %sf_internet)\n",
    "cc_internet = calculate_percentages_from_table(low_income_tables[1], \"ACCESS\", 3)\n",
    "print('In Contra Costa County, %0.2f%% of low income households lack access to the Internet at home.' %cc_internet)"
   ]
  },
  {
   "cell_type": "markdown",
   "metadata": {},
   "source": [
    "#### HISPEED - \"Broadband (high speed) Internet service such as cable, fiber optic, or DSL service\" - from ACS data dictionary https://www2.census.gov/programs-surveys/acs/tech_docs/pums/data_dict/PUMSDataDict16.pdf"
   ]
  },
  {
   "cell_type": "code",
   "execution_count": 12,
   "metadata": {},
   "outputs": [
    {
     "name": "stdout",
     "output_type": "stream",
     "text": [
      "In Alameda County, 14.49% of low income households lack access to high-speed non-data plan internet at home.\n",
      "In San Francisco County, 12.73% of low income households lack access to high-speed non-data plan Internet at home.\n",
      "In Contra Costa County, 17.01% of low income households lack access to high-speed non-data plan Internet at home.\n"
     ]
    }
   ],
   "source": [
    "alameda_internet = calculate_percentages_from_table(low_income_tables[0], \"HISPEED\", 2)\n",
    "print('In Alameda County, %0.2f%% of low income households lack access to high-speed non-data plan internet at home.' %alameda_internet)\n",
    "sf_internet = calculate_percentages_from_table(low_income_tables[2], \"HISPEED\", 2)\n",
    "print('In San Francisco County, %0.2f%% of low income households lack access to high-speed non-data plan Internet at home.' %sf_internet)\n",
    "cc_internet = calculate_percentages_from_table(low_income_tables[1], \"HISPEED\", 2)\n",
    "print('In Contra Costa County, %0.2f%% of low income households lack access to high-speed non-data plan Internet at home.' %cc_internet)"
   ]
  },
  {
   "cell_type": "markdown",
   "metadata": {},
   "source": [
    "# Computer (laptop/desktop - from LAPTOP variable)"
   ]
  },
  {
   "cell_type": "code",
   "execution_count": 13,
   "metadata": {
    "collapsed": false
   },
   "outputs": [
    {
     "name": "stdout",
     "output_type": "stream",
     "text": [
      "In Alameda County, 23.21% of low income households lack access to a computer at home.\n",
      "In San Francisco County, 18.10% of low income households lack access to a computer at home.\n",
      "In Contra Costa County, 22.66% of low income households lack access to a computer at home.\n"
     ]
    }
   ],
   "source": [
    "alameda_computer = calculate_percentages_from_table(low_income_tables[0], \"LAPTOP\", 2)\n",
    "print('In Alameda County, %0.2f%% of low income households lack access to a computer at home.' %alameda_computer)\n",
    "sf_computer = calculate_percentages_from_table(low_income_tables[2], \"LAPTOP\", 2)\n",
    "print('In San Francisco County, %0.2f%% of low income households lack access to a computer at home.' %sf_computer)\n",
    "cc_computer = calculate_percentages_from_table(low_income_tables[1], \"LAPTOP\", 2)\n",
    "print('In Contra Costa County, %0.2f%% of low income households lack access to a computer at home.' %cc_computer)"
   ]
  },
  {
   "cell_type": "markdown",
   "metadata": {},
   "source": [
    "# Combined"
   ]
  },
  {
   "cell_type": "code",
   "execution_count": 88,
   "metadata": {},
   "outputs": [],
   "source": [
    "\n",
    "#select(X.WGTP, X.LAPTOP, X.SMARTPHONE, X.TABLET, X.COMPOTHX, X.DIALUP, X.ACCESS, X.OTHSVCEX, X.SATELLITE, X.BROADBND)\n",
    "\n",
    "def calc_percent_general(df, subset_conditional, outer_conditional = \"\", weighted = True):\n",
    "    \n",
    "    if weighted:\n",
    "        wgtp_subset_sum = (\n",
    "                            df >> \n",
    "                            eval(\"sift(\" + subset_conditional + \")\") >> \n",
    "                            summarize(wgtp_sum = X.WGTP.sum())\n",
    "                         )[\"wgtp_sum\"][0]\n",
    "\n",
    "\n",
    "        wgtp_total_sum = (\n",
    "                            df >> \n",
    "                            eval(\"sift(\" + outer_conditional + \")\") >>\n",
    "                            summarize(wgtp_sum = X.WGTP.sum())\n",
    "                        )[\"wgtp_sum\"][0]\n",
    "        \n",
    "        return 100*wgtp_subset_sum/wgtp_total_sum\n",
    "    \n",
    "    else:\n",
    "        \n",
    "        subset_total = (\n",
    "                            df >> \n",
    "                            eval(\"sift(\" + subset_conditional + \")\") >> \n",
    "                            nrow()\n",
    "                         )\n",
    "        \n",
    "        total = (\n",
    "                            df >> \n",
    "                            eval(\"sift(\" + outer_conditional + \")\") >>\n",
    "                            nrow()      \n",
    "        )\n",
    "        \n",
    "        return 100*subset_total/total\n",
    "        "
   ]
  },
  {
   "cell_type": "markdown",
   "metadata": {},
   "source": [
    "###Some notes below on the implications of the different variables"
   ]
  },
  {
   "cell_type": "markdown",
   "metadata": {},
   "source": [
    "1) Respondents with internet access (ACCESS == 1) but no HISPEED/SATELLITE/DIALUP overwhelmingly have a data plan (BROADBND == 1).  Exceptions are those for whom OTHSVCEX == 1 (other unspecified form of internet access presumably e.g. public library or similar)"
   ]
  },
  {
   "cell_type": "code",
   "execution_count": 92,
   "metadata": {},
   "outputs": [
    {
     "name": "stdout",
     "output_type": "stream",
     "text": [
      "In Alameda County, 99.09% of low income households who have internet access but lack conventional access (e.g. through ISP subscription) have a dataplan.\n",
      "In San Francisco County, 98.73% of low income households who have internet access but lack conventional access (e.g. through ISP subscription) have a dataplan.\n",
      "In Contra Costa County, 100.00% of low income households who have internet access but lack conventional access (e.g. through ISP subscription) have a dataplan\n"
     ]
    }
   ],
   "source": [
    "\n",
    "outer_conditional_broadbnd = \"(X.ACCESS == 1) & (X.HISPEED == 2) & (X.SATELLITE == 2) & (X.DIALUP == 2)\"\n",
    "subset_conditional_broadbnd = \"(X.ACCESS == 1) & (X.HISPEED == 2) & (X.SATELLITE == 2) & (X.DIALUP == 2) & (X.BROADBND == 1)\"\n",
    "\n",
    "print('In Alameda County, %0.2f%% of low income households who have internet access but lack conventional access (e.g. through ISP subscription) have a dataplan.' %calc_percent_general(dpl_ala_li, subset_conditional_broadbnd, outer_conditional = outer_conditional_broadbnd))\n",
    "print('In San Francisco County, %0.2f%% of low income households who have internet access but lack conventional access (e.g. through ISP subscription) have a dataplan.' %calc_percent_general(dpl_sf_li, subset_conditional_broadbnd, outer_conditional = outer_conditional_broadbnd))\n",
    "print('In Contra Costa County, %0.2f%% of low income households who have internet access but lack conventional access (e.g. through ISP subscription) have a dataplan' %calc_percent_general(dpl_cc_li, subset_conditional_broadbnd, outer_conditional = outer_conditional_broadbnd))"
   ]
  },
  {
   "cell_type": "code",
   "execution_count": 98,
   "metadata": {},
   "outputs": [
    {
     "name": "stdout",
     "output_type": "stream",
     "text": [
      "In Alameda County, 20.52% (weighted) of low income households either lack internet access or have at most a small screen device with which to use it (e.g. smartphone).\n",
      "In San Francisco County, 17.77% (weighted) of low income households either lack internet access or have at most a small screen device with which to use it (e.g. smartphone).\n",
      "In Contra Costa County, 17.92% (weighted) of low income households either lack internet access or have at most a small screen device with which to use it (e.g. smartphone).\n",
      "In Alameda County, 17.23% of low income households either lack internet access or have at most a small screen device with which to use it (e.g. smartphone).\n",
      "In San Francisco County, 15.44% of low income households either lack internet access or have at most a small screen device with which to use it (e.g. smartphone).\n",
      "In Contra Costa County, 14.70% of low income households either lack internet access or have at most a small screen device with which to use it (e.g. smartphone).\n"
     ]
    }
   ],
   "source": [
    "small_screen_internet_conditional = \"(X.ACCESS == 3) | ((X.TABLET == 2) & (X.LAPTOP == 2) & (X.COMPOTHX == 2))\"\n",
    "\n",
    "\n",
    "print('In Alameda County, %0.2f%% (weighted) of low income households either lack internet access or have at most a small screen device with which to use it (e.g. smartphone).' %calc_percent_general(dpl_ala_li, small_screen_internet_conditional))\n",
    "print('In San Francisco County, %0.2f%% (weighted) of low income households either lack internet access or have at most a small screen device with which to use it (e.g. smartphone).' %calc_percent_general(dpl_sf_li, small_screen_internet_conditional))\n",
    "print('In Contra Costa County, %0.2f%% (weighted) of low income households either lack internet access or have at most a small screen device with which to use it (e.g. smartphone).' %calc_percent_general(dpl_cc_li, small_screen_internet_conditional))\n",
    "\n",
    "\n",
    "print('In Alameda County, %0.2f%% of low income households either lack internet access or have at most a small screen device with which to use it (e.g. smartphone).' %calc_percent_general(dpl_ala_li, small_screen_internet_conditional, weighted = False))\n",
    "print('In San Francisco County, %0.2f%% of low income households either lack internet access or have at most a small screen device with which to use it (e.g. smartphone).' %calc_percent_general(dpl_sf_li, small_screen_internet_conditional, weighted = False))\n",
    "print('In Contra Costa County, %0.2f%% of low income households either lack internet access or have at most a small screen device with which to use it (e.g. smartphone).' %calc_percent_general(dpl_cc_li, small_screen_internet_conditional, weighted = False))"
   ]
  },
  {
   "cell_type": "code",
   "execution_count": 99,
   "metadata": {},
   "outputs": [
    {
     "name": "stdout",
     "output_type": "stream",
     "text": [
      "In Alameda County, 27.66% (weighted) of low income households either lack internet access or only have access through a dataplan or have at most a small screen device with which to use it (e.g. smartphone).\n",
      "In San Francisco County, 24.47% (weighted) of low income households either lack internet access or only have access through a dataplan or have at most a small screen device with which to use it (e.g. smartphone).\n",
      "In Contra Costa County, 25.56% (weighted) of low income households either lack internet access or only have access through a dataplan or have at most a small screen device with which to use it (e.g. smartphone).\n",
      "In Alameda County, 25.07% of low income households either lack internet access or only have access through a dataplan or have at most a small screen device with which to use it (e.g. smartphone).\n",
      "In San Francisco County, 22.42% of low income households either lack internet access or only have access through a dataplan or have at most a small screen device with which to use it (e.g. smartphone).\n",
      "In Contra Costa County, 22.00% of low income households either lack internet access or only have access through a dataplan or have at most a small screen device with which to use it (e.g. smartphone).\n"
     ]
    }
   ],
   "source": [
    "small_screen_or_only_dataplan_internet_conditional = \"((X.ACCESS == 3) | ((X.HISPEED == 2) & (X.SATELLITE == 2) & (X.DIALUP == 2))) | ((X.TABLET == 2) & (X.LAPTOP == 2) & (X.COMPOTHX == 2))\"\n",
    "\n",
    "print('In Alameda County, %0.2f%% (weighted) of low income households either lack internet access or only have access through a dataplan or have at most a small screen device with which to use it (e.g. smartphone).' %calc_percent_general(dpl_ala_li, small_screen_or_only_dataplan_internet_conditional))\n",
    "print('In San Francisco County, %0.2f%% (weighted) of low income households either lack internet access or only have access through a dataplan or have at most a small screen device with which to use it (e.g. smartphone).' %calc_percent_general(dpl_sf_li, small_screen_or_only_dataplan_internet_conditional))\n",
    "print('In Contra Costa County, %0.2f%% (weighted) of low income households either lack internet access or only have access through a dataplan or have at most a small screen device with which to use it (e.g. smartphone).' %calc_percent_general(dpl_cc_li, small_screen_or_only_dataplan_internet_conditional))\n",
    "\n",
    "\n",
    "print('In Alameda County, %0.2f%% of low income households either lack internet access or only have access through a dataplan or have at most a small screen device with which to use it (e.g. smartphone).' %calc_percent_general(dpl_ala_li, small_screen_or_only_dataplan_internet_conditional, weighted = False))\n",
    "print('In San Francisco County, %0.2f%% of low income households either lack internet access or only have access through a dataplan or have at most a small screen device with which to use it (e.g. smartphone).' %calc_percent_general(dpl_sf_li, small_screen_or_only_dataplan_internet_conditional, weighted = False))\n",
    "print('In Contra Costa County, %0.2f%% of low income households either lack internet access or only have access through a dataplan or have at most a small screen device with which to use it (e.g. smartphone).' %calc_percent_general(dpl_cc_li, small_screen_or_only_dataplan_internet_conditional, weighted = False))"
   ]
  },
  {
   "cell_type": "code",
   "execution_count": 14,
   "metadata": {
    "collapsed": false
   },
   "outputs": [
    {
     "data": {
      "text/plain": [
       "0.26992994396490871"
      ]
     },
     "execution_count": 14,
     "metadata": {},
     "output_type": "execute_result"
    }
   ],
   "source": [
    "low_income_tables[1].WGTP.sum()/cc.WGTP.sum()"
   ]
  },
  {
   "cell_type": "code",
   "execution_count": 15,
   "metadata": {
    "collapsed": false
   },
   "outputs": [
    {
     "name": "stdout",
     "output_type": "stream",
     "text": [
      "0.248337723832\n",
      "0.269929943965\n",
      "0.201645524829\n"
     ]
    }
   ],
   "source": [
    "print(low_income_tables[0].WGTP.sum()/alameda.WGTP.sum())\n",
    "print(low_income_tables[1].WGTP.sum()/cc.WGTP.sum())\n",
    "print(low_income_tables[2].WGTP.sum()/sf.WGTP.sum())"
   ]
  },
  {
   "cell_type": "markdown",
   "metadata": {},
   "source": [
    "|| Alameda | San Francisco | Contra Costa |\n",
    "|---|---------|----|--------------|\n",
    "|<b>Lack Computer Access</b> | 19.44% | 16.11% | 17.94% | \n",
    "|<b>Lack Computer Access (Weighted)</b> | 23.21% | 18.10% | 22.66% |\n",
    "|<b>Lack Internet Access</b> | 11.60% | 10.34% | 8.13% | \n",
    "|<b>Lack Internet Access (Weighted)</b> | 13.44% | 10.73% | 8.65% |  \n",
    "|<b>Lack Internet Access OR only have smartphone (no moderate/large screen device)</b> | 17.23% | 15.44% | 14.70% | \n",
    "|<b>Lack Internet Access OR only have smartphone (no moderate/large screen device) (Weighted)</b> | 20.52% | 17.77% | 17.92% | \n",
    "|<b>Lack internet Access OR only have access through a dataplan OR have at most a small screen device with which to use it</b> | 25.07% | 22.42% | 22.00% | \n",
    "|<b>Lack internet Access OR only have access through a dataplan OR have at most a small screen device with which to use it (Weighted)</b> | 27.66% | 24.47% | 25.56% | \n"
   ]
  },
  {
   "cell_type": "code",
   "execution_count": null,
   "metadata": {
    "collapsed": true
   },
   "outputs": [],
   "source": []
  }
 ],
 "metadata": {
  "kernelspec": {
   "display_name": "Python 3",
   "language": "python",
   "name": "python3"
  },
  "language_info": {
   "codemirror_mode": {
    "name": "ipython",
    "version": 3
   },
   "file_extension": ".py",
   "mimetype": "text/x-python",
   "name": "python",
   "nbconvert_exporter": "python",
   "pygments_lexer": "ipython3",
   "version": "3.6.1"
  },
  "varInspector": {
   "cols": {
    "lenName": 16,
    "lenType": 16,
    "lenVar": 40
   },
   "kernels_config": {
    "python": {
     "delete_cmd_postfix": "",
     "delete_cmd_prefix": "del ",
     "library": "var_list.py",
     "varRefreshCmd": "print(var_dic_list())"
    },
    "r": {
     "delete_cmd_postfix": ") ",
     "delete_cmd_prefix": "rm(",
     "library": "var_list.r",
     "varRefreshCmd": "cat(var_dic_list()) "
    }
   },
   "types_to_exclude": [
    "module",
    "function",
    "builtin_function_or_method",
    "instance",
    "_Feature"
   ],
   "window_display": false
  }
 },
 "nbformat": 4,
 "nbformat_minor": 2
}
